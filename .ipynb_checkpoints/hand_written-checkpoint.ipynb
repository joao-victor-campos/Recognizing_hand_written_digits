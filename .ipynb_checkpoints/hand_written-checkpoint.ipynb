{
 "cells": [
  {
   "cell_type": "code",
   "execution_count": 13,
   "id": "ea39db3a-c7c1-43c4-a63d-1ad485c0213b",
   "metadata": {},
   "outputs": [],
   "source": [
    "#importing libs \n",
    "from sklearn import datasets\n",
    "import pandas as pd\n",
    "import numpy as np\n",
    "from sklearn.ensemble import RandomForestClassifier\n",
    "import sklearn as sk\n",
    "from sklearn.model_selection import train_test_split\n"
   ]
  },
  {
   "cell_type": "code",
   "execution_count": 55,
   "id": "9514cf94-77ce-483e-9e36-3b4b331adce3",
   "metadata": {},
   "outputs": [],
   "source": [
    "#Getting data\n",
    "digits = datasets.load_digits()\n",
    "\n",
    "#Reshaping the images in an array\n",
    "n_samples = len(digits.images)\n",
    "data = digits.images.reshape((n_samples, -1))\n"
   ]
  },
  {
   "cell_type": "code",
   "execution_count": 62,
   "id": "ad0e9e14-e66f-4542-9dce-a0e876d3802f",
   "metadata": {},
   "outputs": [],
   "source": [
    "#Splitting the data set in train and test\n",
    "X_train, X_test, y_train, y_test = train_test_split(\n",
    "    data, digits.target, test_size=0.3, shuffle=False)"
   ]
  },
  {
   "cell_type": "code",
   "execution_count": 30,
   "id": "ef4d4734-2770-408d-949a-2d82d3620d3e",
   "metadata": {},
   "outputs": [],
   "source": [
    "#Fitting and Prediction\n",
    "from sklearn.linear_model import LogisticRegression\n",
    "lr = LogisticRegression(C = 0.7, random_state = 42, max_iter = 20000)\n",
    "lr.fit(X_train, y_train)\n",
    "lr_prediction = lr.predict(X_test)\n",
    "\n"
   ]
  },
  {
   "cell_type": "code",
   "execution_count": 31,
   "id": "4b95dd69-2806-4594-864e-30bc284a83cf",
   "metadata": {},
   "outputs": [
    {
     "name": "stdout",
     "output_type": "stream",
     "text": [
      "0.9222\n"
     ]
    }
   ],
   "source": [
    "#Calculatting accuracy\n",
    "from sklearn import metrics\n",
    "print(\"{0:.4f}\".format(metrics.accuracy_score(y_test, lr_prediction)))"
   ]
  },
  {
   "cell_type": "code",
   "execution_count": 53,
   "id": "601ac498-c64c-4938-9953-601c16d56875",
   "metadata": {},
   "outputs": [
    {
     "data": {
      "image/png": "[encoded data removed]",
      "text/plain": [
       "<Figure size 720x216 with 4 Axes>"
      ]
     },
     "metadata": {
      "needs_background": "light"
     },
     "output_type": "display_data"
    }
   ],
   "source": [
    "#Print a set of numbers\n",
    "import matplotlib.pyplot as plt\n",
    "_, axes = plt.subplots(nrows=1, ncols=4, figsize=(10, 3))\n",
    "for ax, image, prediction in zip(axes, X_test[100:], lr_prediction[100:]):\n",
    "    ax.set_axis_off()\n",
    "    image = image.reshape(8, 8)\n",
    "    ax.imshow(image, cmap=plt.cm.gray_r)\n",
    "    ax.set_title(f\"Prediction: {prediction}\")\n",
    "\n"
   ]
  },
  {
   "cell_type": "code",
   "execution_count": 65,
   "id": "6396a5bc-ea3e-4562-a143-3c46d9ed15c5",
   "metadata": {},
   "outputs": [],
   "source": [
    "from sklearn import svm\n",
    "#Using  support vector classifier\n",
    "svc = svm.SVC(gamma=0.001)\n",
    "svc.fit(X_train, y_train)\n",
    "svc_predicted = svc.predict(X_test)"
   ]
  },
  {
   "cell_type": "code",
   "execution_count": 66,
   "id": "dd5ef941-c9c6-4cb0-adec-15845553ca65",
   "metadata": {},
   "outputs": [
    {
     "name": "stdout",
     "output_type": "stream",
     "text": [
      "0.9704\n"
     ]
    }
   ],
   "source": [
    "#Calculatting accuracy\n",
    "from sklearn import metrics\n",
    "print(\"{0:.4f}\".format(metrics.accuracy_score(y_test, svc_predicted)))"
   ]
  },
  {
   "cell_type": "code",
   "execution_count": null,
   "id": "3dcf6445-1be7-469a-a28f-becfa95c346a",
   "metadata": {},
   "outputs": [],
   "source": []
  }
 ],
 "metadata": {
  "kernelspec": {
   "display_name": "Python 3 (ipykernel)",
   "language": "python",
   "name": "python3"
  },
  "language_info": {
   "codemirror_mode": {
    "name": "ipython",
    "version": 3
   },
   "file_extension": ".py",
   "mimetype": "text/x-python",
   "name": "python",
   "nbconvert_exporter": "python",
   "pygments_lexer": "ipython3",
   "version": "3.9.7"
  }
 },
 "nbformat": 4,
 "nbformat_minor": 5
}
